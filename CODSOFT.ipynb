{
  "nbformat": 4,
  "nbformat_minor": 0,
  "metadata": {
    "colab": {
      "provenance": [],
      "authorship_tag": "ABX9TyNqawQAetfLHjT/vyEp2nsQ",
      "include_colab_link": true
    },
    "kernelspec": {
      "name": "python3",
      "display_name": "Python 3"
    },
    "language_info": {
      "name": "python"
    }
  },
  "cells": [
    {
      "cell_type": "markdown",
      "metadata": {
        "id": "view-in-github",
        "colab_type": "text"
      },
      "source": [
        "<a href=\"https://colab.research.google.com/github/ujwala1720/Codsoft/blob/main/CODSOFT.ipynb\" target=\"_parent\"><img src=\"https://colab.research.google.com/assets/colab-badge.svg\" alt=\"Open In Colab\"/></a>"
      ]
    },
    {
      "cell_type": "code",
      "execution_count": 2,
      "metadata": {
        "colab": {
          "base_uri": "https://localhost:8080/"
        },
        "id": "VG_cs_mOqfip",
        "outputId": "ee2868a3-a39f-479d-ccf0-6af1147422ab"
      },
      "outputs": [
        {
          "output_type": "stream",
          "name": "stdout",
          "text": [
            "Collecting openai\n",
            "  Downloading openai-0.28.0-py3-none-any.whl (76 kB)\n",
            "\u001b[?25l     \u001b[90m━━━━━━━━━━━━━━━━━━━━━━━━━━━━━━━━━━━━━━━━\u001b[0m \u001b[32m0.0/76.5 kB\u001b[0m \u001b[31m?\u001b[0m eta \u001b[36m-:--:--\u001b[0m\r\u001b[2K     \u001b[90m━━━━━━━━━━━━━━━━━━━━━━━━━━━━━━━━━━━━━━━━\u001b[0m \u001b[32m76.5/76.5 kB\u001b[0m \u001b[31m2.3 MB/s\u001b[0m eta \u001b[36m0:00:00\u001b[0m\n",
            "\u001b[?25hRequirement already satisfied: requests>=2.20 in /usr/local/lib/python3.10/dist-packages (from openai) (2.31.0)\n",
            "Requirement already satisfied: tqdm in /usr/local/lib/python3.10/dist-packages (from openai) (4.66.1)\n",
            "Requirement already satisfied: aiohttp in /usr/local/lib/python3.10/dist-packages (from openai) (3.8.5)\n",
            "Requirement already satisfied: charset-normalizer<4,>=2 in /usr/local/lib/python3.10/dist-packages (from requests>=2.20->openai) (3.2.0)\n",
            "Requirement already satisfied: idna<4,>=2.5 in /usr/local/lib/python3.10/dist-packages (from requests>=2.20->openai) (3.4)\n",
            "Requirement already satisfied: urllib3<3,>=1.21.1 in /usr/local/lib/python3.10/dist-packages (from requests>=2.20->openai) (2.0.4)\n",
            "Requirement already satisfied: certifi>=2017.4.17 in /usr/local/lib/python3.10/dist-packages (from requests>=2.20->openai) (2023.7.22)\n",
            "Requirement already satisfied: attrs>=17.3.0 in /usr/local/lib/python3.10/dist-packages (from aiohttp->openai) (23.1.0)\n",
            "Requirement already satisfied: multidict<7.0,>=4.5 in /usr/local/lib/python3.10/dist-packages (from aiohttp->openai) (6.0.4)\n",
            "Requirement already satisfied: async-timeout<5.0,>=4.0.0a3 in /usr/local/lib/python3.10/dist-packages (from aiohttp->openai) (4.0.3)\n",
            "Requirement already satisfied: yarl<2.0,>=1.0 in /usr/local/lib/python3.10/dist-packages (from aiohttp->openai) (1.9.2)\n",
            "Requirement already satisfied: frozenlist>=1.1.1 in /usr/local/lib/python3.10/dist-packages (from aiohttp->openai) (1.4.0)\n",
            "Requirement already satisfied: aiosignal>=1.1.2 in /usr/local/lib/python3.10/dist-packages (from aiohttp->openai) (1.3.1)\n",
            "Installing collected packages: openai\n",
            "Successfully installed openai-0.28.0\n"
          ]
        }
      ],
      "source": [
        "pip install openai\n"
      ]
    },
    {
      "cell_type": "code",
      "source": [
        "import openai\n",
        "openai.api_key=(\"paste your api key here\")\n",
        "print(\"Hello, How can I help you\\n\")\n",
        "text=\"\"\n",
        "while(text!=\"exit\"):\n",
        "  text = input(\"\\n\")\n",
        "  response=openai.ChatCompletion.create(\n",
        "      model=\"gpt-3.5-turbo\",\n",
        "      messages=[\n",
        "          {\n",
        "              \"role\": \"system\",\n",
        "              \"content\":\"You will be asked certain queries regarding codsoft which is an internship platform and you have to answer.\"\n",
        "          },\n",
        "          {\n",
        "              \"role\": \"user\",\n",
        "              \"content\":text\n",
        "          }\n",
        "        ],\n",
        "      temperature=0,\n",
        "      max_tokens=256,\n",
        "      top_p=1,\n",
        "      frequency_penalty=0,\n",
        "      presence_penalty=0\n",
        "  )\n",
        "  #print(response)\n",
        "  generated_text=response.choices[0].message.content.strip()\n",
        "  print(generated_text)\n"
      ],
      "metadata": {
        "colab": {
          "base_uri": "https://localhost:8080/"
        },
        "id": "ZsIvZ3mNrIIz",
        "outputId": "4c47e3b9-9aed-4919-d261-381b53833d3f"
      },
      "execution_count": 3,
      "outputs": [
        {
          "output_type": "stream",
          "name": "stdout",
          "text": [
            "Hello, How can I help you\n",
            "\n",
            "\n",
            "how is codsoft platform useful?\n",
            "Codsoft platform is highly useful for both students and companies. \n",
            "\n",
            "For students, Codsoft provides a centralized platform where they can find and apply for internships in various fields of technology. It offers a wide range of internship opportunities from different companies, allowing students to explore and gain practical experience in their desired field. The platform also provides resources and guidance to help students enhance their skills and prepare for internships.\n",
            "\n",
            "For companies, Codsoft serves as a valuable tool for recruiting talented interns. It allows companies to post internship opportunities and connect with a pool of skilled and motivated students. The platform provides a streamlined process for companies to review applications, conduct interviews, and select the most suitable candidates for their internships. This helps companies in finding interns who can contribute to their projects and bring fresh perspectives to their teams.\n",
            "\n",
            "Overall, Codsoft platform bridges the gap between students and companies, making it easier for both parties to find and connect with each other for mutually beneficial internships.\n",
            "\n",
            "how do i get a certificate from codsoft?\n",
            "To get a certificate from Codsoft, you need to complete a specific program or course offered by Codsoft. Here are the general steps to obtain a certificate:\n",
            "\n",
            "1. Visit the Codsoft website and explore the available programs or courses.\n",
            "2. Choose the program or course that you are interested in and check the requirements, duration, and any prerequisites.\n",
            "3. Enroll in the program or course by following the registration process provided on the website. This may involve creating an account, providing necessary information, and paying any applicable fees.\n",
            "4. Attend and complete the program or course by following the curriculum, attending lectures, completing assignments, and participating in any assessments or exams.\n",
            "5. Once you have successfully completed the program or course, Codsoft will evaluate your performance and issue a certificate of completion.\n",
            "6. The certificate can be either downloaded from your account on the Codsoft website or sent to you via email or mail, depending on the platform's policies.\n",
            "\n",
            "It's important to note that the specific process may vary depending on the program or course you choose. Make sure to read the program details and follow the instructions provided by Codsoft for obtaining the certificate.\n",
            "\n",
            "exit\n",
            "Thank you for using the Codsoft internship platform. If you have any further questions or need assistance in the future, feel free to reach out. Have a great day!\n"
          ]
        }
      ]
    }
  ]
}